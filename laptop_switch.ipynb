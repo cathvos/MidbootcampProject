{
 "cells": [
  {
   "cell_type": "code",
   "execution_count": 6,
   "metadata": {},
   "outputs": [
    {
     "name": "stdout",
     "output_type": "stream",
     "text": [
      "who`s typing? Cath or Fede? Fede\n",
      "ciao\n"
     ]
    }
   ],
   "source": [
    "laptop = input('who`s typing? Cath or Fede? ')\n",
    "if laptop == 'Cath':\n",
    "    print(laptop)\n",
    "elif laptop == 'Fede':\n",
    "    print ('ciao')\n",
    "else:\n",
    "    print('ERROR')"
   ]
  },
  {
   "cell_type": "code",
   "execution_count": 13,
   "metadata": {},
   "outputs": [],
   "source": [
    "import os"
   ]
  },
  {
   "cell_type": "code",
   "execution_count": 14,
   "metadata": {},
   "outputs": [
    {
     "data": {
      "text/plain": [
       "'C:\\\\Users\\\\W10\\\\Documents\\\\GitHub\\\\MidbootcampProject'"
      ]
     },
     "execution_count": 14,
     "metadata": {},
     "output_type": "execute_result"
    }
   ],
   "source": [
    "os.getcwd()\n",
    "\n",
    "filepath= pastefile('users', 'c',)"
   ]
  },
  {
   "cell_type": "code",
   "execution_count": 12,
   "metadata": {},
   "outputs": [
    {
     "data": {
      "text/plain": [
       "'C:\\\\MidbootcampProject'"
      ]
     },
     "execution_count": 12,
     "metadata": {},
     "output_type": "execute_result"
    }
   ],
   "source": [
    "import os\n",
    "projpath = os.path.join('C:',os.sep, 'Users', 'W10', os.sep, 'Documents', os.sep, 'GitHub', os.sep, 'MidbootcampProject')\n",
    "projpath"
   ]
  },
  {
   "cell_type": "code",
   "execution_count": 8,
   "metadata": {},
   "outputs": [
    {
     "ename": "SyntaxError",
     "evalue": "(unicode error) 'unicodeescape' codec can't decode bytes in position 2-3: truncated \\UXXXXXXXX escape (<ipython-input-8-f37d82075acd>, line 7)",
     "output_type": "error",
     "traceback": [
      "\u001b[1;36m  File \u001b[1;32m\"<ipython-input-8-f37d82075acd>\"\u001b[1;36m, line \u001b[1;32m7\u001b[0m\n\u001b[1;33m    wdir = ('C:\\Users\\W10\\Documents\\GitHub\\MidbootcampProject')\u001b[0m\n\u001b[1;37m            ^\u001b[0m\n\u001b[1;31mSyntaxError\u001b[0m\u001b[1;31m:\u001b[0m (unicode error) 'unicodeescape' codec can't decode bytes in position 2-3: truncated \\UXXXXXXXX escape\n"
     ]
    }
   ],
   "source": [
    "laptop = input('who`s typing? Cath or Fede? ')\n",
    "if laptop == 'Cath':\n",
    "    import os\n",
    "    wd = print(laptop)\n",
    "elif laptop == 'Fede':\n",
    "    import os\n",
    "    wdir = ('C:','\\Users\\W10\\Documents\\GitHub\\MidbootcampProject')\n",
    "else:\n",
    "    print('ERROR')"
   ]
  },
  {
   "cell_type": "code",
   "execution_count": null,
   "metadata": {},
   "outputs": [],
   "source": [
    "df_start = read_csv(os.path.join(wdir,'datasets', 'regression_data.csv')"
   ]
  }
 ],
 "metadata": {
  "kernelspec": {
   "display_name": "Python 3",
   "language": "python",
   "name": "python3"
  },
  "language_info": {
   "codemirror_mode": {
    "name": "ipython",
    "version": 3
   },
   "file_extension": ".py",
   "mimetype": "text/x-python",
   "name": "python",
   "nbconvert_exporter": "python",
   "pygments_lexer": "ipython3",
   "version": "3.8.5"
  }
 },
 "nbformat": 4,
 "nbformat_minor": 4
}
