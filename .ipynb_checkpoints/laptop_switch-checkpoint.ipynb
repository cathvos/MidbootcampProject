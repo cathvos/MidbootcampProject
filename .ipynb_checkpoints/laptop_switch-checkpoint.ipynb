{
 "cells": [
  {
   "cell_type": "code",
   "execution_count": 6,
   "metadata": {},
   "outputs": [
    {
     "name": "stdout",
     "output_type": "stream",
     "text": [
      "who`s typing? Cath or Fede? Fede\n",
      "ciao\n"
     ]
    }
   ],
   "source": [
    "laptop = input('who`s typing? Cath or Fede? ')\n",
    "if laptop == 'Cath':\n",
    "    print(laptop)\n",
    "elif laptop == 'Fede':\n",
    "    print ('ciao')\n",
    "else:\n",
    "    print('ERROR')\n"
   ]
  },
  {
   "cell_type": "code",
   "execution_count": null,
   "metadata": {},
   "outputs": [],
   "source": [
    "laptop = input('who`s typing? Cath or Fede? ')\n",
    "if laptop == 'Cath':\n",
    "    import os\n",
    "    wd = print(laptop)\n",
    "elif laptop == 'Fede':\n",
    "    wdir = ('C:\\Users\\W10\\Documents\\GitHub\\MidbootcampProject\\')\n",
    "else:\n",
    "    print('ERROR')"
   ]
  },
  {
   "cell_type": "code",
   "execution_count": null,
   "metadata": {},
   "outputs": [],
   "source": []
  }
 ],
 "metadata": {
  "kernelspec": {
   "display_name": "Python 3",
   "language": "python",
   "name": "python3"
  },
  "language_info": {
   "codemirror_mode": {
    "name": "ipython",
    "version": 3
   },
   "file_extension": ".py",
   "mimetype": "text/x-python",
   "name": "python",
   "nbconvert_exporter": "python",
   "pygments_lexer": "ipython3",
   "version": "3.8.5"
  }
 },
 "nbformat": 4,
 "nbformat_minor": 4
}
